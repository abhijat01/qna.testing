{
 "cells": [
  {
   "cell_type": "markdown",
   "id": "e74df107-528c-4ae6-ba88-72f54937a86e",
   "metadata": {},
   "source": [
    "# Download ServiceNow knowledge articles \n",
    "## Important pre-requisite \n",
    "Before you run this code, you should run start_remote_driver code. \n",
    "## What does it do?\n",
    "This code will \n",
    "* connect to an existing driver where you have already logged on to ServiceNow  \n",
    "* go the list of knowledge base articles \n",
    "* keep clicking on \"Show More\" till all articles are listed. \n",
    "* Make a list of all KB lines \n",
    "\n",
    "## Downloading and saving knowledge articles \n",
    "For each kb it will:  \n",
    "* browse to the page, \n",
    "* download the content \n",
    "* Clean the content\n",
    "* Download all referred to images and attachments and keep in locally \n",
    "* Change HTML code references to point to the local(relative) urls \n"
   ]
  },
  {
   "cell_type": "code",
   "execution_count": 1,
   "id": "5c259775-2b68-4507-ac4b-8ecb6e6b8f9b",
   "metadata": {},
   "outputs": [],
   "source": [
    "from selenium import webdriver\n",
    "from selenium.webdriver.common.by import By\n",
    "from selenium.webdriver.chrome.options import Options as ChromeOptions\n",
    "import time \n",
    "import os \n",
    "from bs4 import BeautifulSoup\n",
    "import json \n",
    "import sys \n",
    "import requests "
   ]
  },
  {
   "cell_type": "markdown",
   "id": "81aad359-b086-4120-824a-4c716f1dd402",
   "metadata": {},
   "source": [
    "## Add custom library to path "
   ]
  },
  {
   "cell_type": "code",
   "execution_count": 2,
   "id": "5d35510e-2bb8-480b-9a63-dacc228913c2",
   "metadata": {},
   "outputs": [],
   "source": [
    "parent = os.path.join('..', 'src') \n",
    "sys.path.append(parent)"
   ]
  },
  {
   "cell_type": "code",
   "execution_count": 3,
   "id": "777adb69-25d3-4c2d-8c88-56c807a6621b",
   "metadata": {},
   "outputs": [],
   "source": [
    "import servicenow.selenium_scrape as sel "
   ]
  },
  {
   "cell_type": "markdown",
   "id": "b2c5eba4-c5ba-4ff2-b55f-6a135ea4cf31",
   "metadata": {},
   "source": [
    "## Get a remote session  (but call this one \"driver\")"
   ]
  },
  {
   "cell_type": "code",
   "execution_count": 4,
   "id": "952d7896-6a09-47ca-8a5c-1a9e77610403",
   "metadata": {},
   "outputs": [],
   "source": [
    "# Save a few URLS \n",
    "okta_url = 'https://taihooncology.okta.com/'\n",
    "svc_now_url='https://tizona.service-now.com/fna/'"
   ]
  },
  {
   "cell_type": "code",
   "execution_count": 5,
   "id": "a8a64a17-5278-430b-b626-31b4c391ac6f",
   "metadata": {},
   "outputs": [],
   "source": [
    "sess = sel.SessionMgmt() \n",
    "driver = sess.get_remote_session() \n",
    "driver.get(svc_now_url)"
   ]
  },
  {
   "cell_type": "markdown",
   "id": "ecdc0206-add0-468d-af2d-9310f2280380",
   "metadata": {},
   "source": [
    "## Shutdown the driver\n",
    "Should cleanly shutdown the driver and os processes "
   ]
  },
  {
   "cell_type": "code",
   "execution_count": 6,
   "id": "afa172ac-d0e7-4e77-9f0b-c5a29254c5ef",
   "metadata": {},
   "outputs": [],
   "source": [
    "def shutdown(_driver):\n",
    "    _driver.close() \n",
    "    _driver.stop_client()\n",
    "    _driver.quit() \n",
    "#shutdown(driver)"
   ]
  },
  {
   "cell_type": "markdown",
   "id": "bdc537ad-583a-4a18-86a1-9ae73ebbe41f",
   "metadata": {},
   "source": [
    "## Testing \n",
    "Next two lines are part of sanity check "
   ]
  },
  {
   "cell_type": "code",
   "execution_count": 6,
   "id": "5201de03-6e81-4cc0-bc11-47ded0adba11",
   "metadata": {},
   "outputs": [
    {
     "data": {
      "text/plain": [
       "1"
      ]
     },
     "execution_count": 6,
     "metadata": {},
     "output_type": "execute_result"
    }
   ],
   "source": [
    "x_path = \"//*[contains(@ng-href,'id=kb_view2')]\"\n",
    "x_path=\"//span[text()='Taiho Oncology']\"\n",
    "elements = driver.find_elements(By.XPATH, x_path) \n",
    "len(elements)"
   ]
  },
  {
   "cell_type": "code",
   "execution_count": 7,
   "id": "d251a5e7-388a-4bff-9f7a-9c7d710987b8",
   "metadata": {},
   "outputs": [
    {
     "data": {
      "text/plain": [
       "'<span ng-if=\"::data.company_slogan\" style=\"display:inline-block;\" class=\"ng-binding ng-scope\">Taiho Oncology</span>'"
      ]
     },
     "execution_count": 7,
     "metadata": {},
     "output_type": "execute_result"
    }
   ],
   "source": [
    "elements[0].get_attribute('outerHTML')"
   ]
  },
  {
   "cell_type": "markdown",
   "id": "5c102616-41cd-47ab-9709-cf4f6b1cb250",
   "metadata": {},
   "source": [
    "## Go to list of knowledge articles \n",
    "We need to dynamically extract this link from the previous page. This is a hack"
   ]
  },
  {
   "cell_type": "code",
   "execution_count": 7,
   "id": "adc40001-77f1-4506-8d77-c33bbea2c3c7",
   "metadata": {},
   "outputs": [],
   "source": [
    "url = \"https://tizona.service-now.com/fna/?id=kb_category&kb_category=25e9fde64febde405165fc828110c7db\"\n",
    "driver.get(url)\n",
    "time.sleep(5) "
   ]
  },
  {
   "cell_type": "markdown",
   "id": "5b4d6ce5-fbac-4050-922f-e95f5aeef024",
   "metadata": {},
   "source": [
    "## Load list of all knowledge articles \n",
    "This code will click on \"Show More\" button, wait for few seconds and \n",
    "then click again till it cannot find the button anymore. "
   ]
  },
  {
   "cell_type": "code",
   "execution_count": 8,
   "id": "d936211e-11c8-473e-9b82-4b2381a7b4b1",
   "metadata": {},
   "outputs": [
    {
     "name": "stdout",
     "output_type": "stream",
     "text": [
      "Waiting for 5 seconds for page to fully load\n",
      "Waiting for 5 seconds for page to fully load\n",
      "Waiting for 5 seconds for page to fully load\n",
      "Waiting for 5 seconds for page to fully load\n",
      "Waiting for 5 seconds for page to fully load\n",
      "Waiting for 5 seconds for page to fully load\n",
      "Waiting for 5 seconds for page to fully load\n",
      "Done ...\n"
     ]
    }
   ],
   "source": [
    "click_=True \n",
    "element = None \n",
    "counter = 0 \n",
    "break_after = 100\n",
    "while click_:\n",
    "    if not (element is None):\n",
    "        element.click() \n",
    "    print(\"Waiting for 5 seconds for page to fully load\")\n",
    "    time.sleep(5)\n",
    "    x_path=\"//*[text()='Show More']\"\n",
    "    elements = driver.find_elements(By.CSS_SELECTOR, '.btn-loadmore') \n",
    "    click_= (len(elements)>0)\n",
    "    if click_:\n",
    "        element = elements[0] \n",
    "        counter +=1 \n",
    "    if counter> break_after:\n",
    "        break \n",
    "print(\"Done ...\")"
   ]
  },
  {
   "cell_type": "markdown",
   "id": "50f7fad0-9b30-4e81-9c0a-b7a339df8d27",
   "metadata": {},
   "source": [
    "## Get the list elements, convert to KB  objects\n",
    "This will get the list of all elements containg knowledge articles. "
   ]
  },
  {
   "cell_type": "code",
   "execution_count": 9,
   "id": "c4d0ef39-19f2-4253-bea6-6f7708c91fe5",
   "metadata": {},
   "outputs": [
    {
     "data": {
      "text/plain": [
       "67"
      ]
     },
     "execution_count": 9,
     "metadata": {},
     "output_type": "execute_result"
    }
   ],
   "source": [
    "x_path = \"//*[contains(@ng-href,'id=kb_article')]\"\n",
    "elements = driver.find_elements(By.XPATH, x_path) \n",
    "kb = [sel.KBArticleLine(element, svc_now_url, i) for i, element in enumerate(elements)]\n",
    "for k in kb:\n",
    "    k.set_cookies(driver.get_cookies())\n",
    "len(kb)"
   ]
  },
  {
   "cell_type": "code",
   "execution_count": 11,
   "id": "86096e1a-b3de-4f24-a7db-0b65ec12dd84",
   "metadata": {},
   "outputs": [],
   "source": [
    "#driver.get_cookies()"
   ]
  },
  {
   "cell_type": "markdown",
   "id": "619a0e50-97e2-4e1e-8879-40841d42eef6",
   "metadata": {},
   "source": [
    "## Save each article \n",
    "Goes to the page for each article, downloads and saves. Typically 6-7 seconds per article. "
   ]
  },
  {
   "cell_type": "code",
   "execution_count": 12,
   "id": "e31b85b8-3984-4eb3-aacd-b25c543a5ef8",
   "metadata": {},
   "outputs": [
    {
     "name": "stdout",
     "output_type": "stream",
     "text": [
      "waiting for 5 seconds for https://tizona.service-now.com/fna/?id=kb_article&sys_id=a8f46e09871941d080dee58e0ebb35b2 to load\n",
      "waiting for 5 seconds for https://tizona.service-now.com/fna/?id=kb_article&sys_id=2aa42609871941d080dee58e0ebb359d to load\n",
      "waiting for 5 seconds for https://tizona.service-now.com/fna/?id=kb_article&sys_id=752025b0dbd1c1900d24138b4b9619a4 to load\n",
      "No filename found in url:#\n",
      "Headers:{'X-Frame-Options': 'SAMEORIGIN', 'X-Is-Logged-In': 'true', 'X-Transaction-ID': '97a577898719', 'Set-Cookie': 'glide_session_store=88253789871981D080DEE58E0EBB3584; Max-Age=3600; Expires=Tue, 25-Jan-2022 20:28:50 GMT; Path=/; HttpOnly; SameSite=None; Secure', 'Pragma': 'no-store,no-cache', 'Cache-Control': 'no-cache,no-store,must-revalidate,max-age=-1', 'Expires': '0', 'Referrer-Policy': 'same-origin', 'Content-Encoding': 'gzip', 'Content-Type': 'text/html;charset=UTF-8', 'Transfer-Encoding': 'chunked', 'Date': 'Tue, 25 Jan 2022 19:28:50 GMT', 'Server': 'ServiceNow', 'Strict-Transport-Security': 'max-age=63072000; includeSubDomains'}\n"
     ]
    }
   ],
   "source": [
    "sel.make_db(kb[0:3], driver)"
   ]
  },
  {
   "cell_type": "markdown",
   "id": "2b4cb138-55f4-4ac7-a05f-f6307607651b",
   "metadata": {},
   "source": [
    "## And we are done! \n",
    "The rest of the code is for playing with different things. "
   ]
  },
  {
   "cell_type": "code",
   "execution_count": null,
   "id": "0494161d-6e13-47f1-922d-5dbd48d055df",
   "metadata": {},
   "outputs": [],
   "source": [
    "kb = kb[1]\n",
    "kb.href"
   ]
  },
  {
   "cell_type": "code",
   "execution_count": null,
   "id": "31697f06-5ea3-42e9-ac6c-2ce2876a5b87",
   "metadata": {},
   "outputs": [],
   "source": [
    "full_url = base_url+kb.href\n",
    "full_url"
   ]
  },
  {
   "cell_type": "code",
   "execution_count": null,
   "id": "86b72b5c-feda-4150-987d-e685b2e0895e",
   "metadata": {},
   "outputs": [],
   "source": [
    "driver.get(full_url) "
   ]
  },
  {
   "cell_type": "code",
   "execution_count": null,
   "id": "569b89ec-fa2a-4d07-85ba-2b3bf4731cad",
   "metadata": {},
   "outputs": [],
   "source": [
    "elements = driver.find_elements(By.CSS_SELECTOR, '.panel-body')"
   ]
  },
  {
   "cell_type": "code",
   "execution_count": null,
   "id": "0b680046-76a5-4b89-ad31-f0f4e8efa813",
   "metadata": {},
   "outputs": [],
   "source": [
    "soup = parse_html(elements[1].get_attribute('innerHTML'))"
   ]
  },
  {
   "cell_type": "code",
   "execution_count": null,
   "id": "5785c9e0-31aa-449d-8e62-8dcebf3a2496",
   "metadata": {},
   "outputs": [],
   "source": [
    "for img in soup.find_all('img'):\n",
    "    src = img['src'] \n",
    "    print( src )\n",
    "    if src.startswith('/'):\n",
    "        img['src'] = base_url+ src "
   ]
  },
  {
   "cell_type": "code",
   "execution_count": null,
   "id": "734788b3-f77b-4ff2-ab18-85eb09308652",
   "metadata": {},
   "outputs": [],
   "source": [
    "for img in soup.find_all('img'):\n",
    "    src = img['src'] \n",
    "    print( src )"
   ]
  },
  {
   "cell_type": "code",
   "execution_count": null,
   "id": "99f58ca6-3048-46ac-9fae-a741249599e2",
   "metadata": {},
   "outputs": [],
   "source": [
    "title_header = soup.find_all(\"h2\" , {\"class\":\"kb-title-header\"})"
   ]
  },
  {
   "cell_type": "code",
   "execution_count": null,
   "id": "7a2269e3-887a-4ed0-87eb-8bcdfb92d1ea",
   "metadata": {},
   "outputs": [],
   "source": [
    "len(title_header)"
   ]
  },
  {
   "cell_type": "code",
   "execution_count": null,
   "id": "1f499162-2024-43e7-9ccb-5f50c012db42",
   "metadata": {},
   "outputs": [],
   "source": [
    "title_header[0].string = \"<a href='http://google.com'>{}</a>\".format(title_header[0].text)"
   ]
  },
  {
   "cell_type": "code",
   "execution_count": null,
   "id": "0b020c36-78e7-44db-aefa-bd16ad82da26",
   "metadata": {},
   "outputs": [],
   "source": [
    "k=kb[1] \n",
    "link=k.link \n",
    "driver.get(link)"
   ]
  },
  {
   "cell_type": "code",
   "execution_count": null,
   "id": "50e55475-9aab-4437-abe5-c6b933c01412",
   "metadata": {},
   "outputs": [],
   "source": [
    "k.find_article_element(driver)"
   ]
  },
  {
   "cell_type": "code",
   "execution_count": null,
   "id": "0175c75f-db47-47fe-b1f0-c12af8909c5f",
   "metadata": {},
   "outputs": [],
   "source": [
    "for img in k.content_soup.find_all('img'):\n",
    "    print(img['src'])"
   ]
  },
  {
   "cell_type": "code",
   "execution_count": null,
   "id": "1a5566e7-cb1e-4d6d-8311-1e06faf307c6",
   "metadata": {},
   "outputs": [],
   "source": [
    "cookies = {} \n",
    "for cookie in driver.get_cookies():\n",
    "    cookies[cookie['name']] = cookie['value']"
   ]
  },
  {
   "cell_type": "code",
   "execution_count": null,
   "id": "57333edd-090b-41c4-8390-707873c2e081",
   "metadata": {},
   "outputs": [],
   "source": [
    "img_src =k.base_url + img['src'] \n",
    "r = requests.get( img_src, cookies=cookies)"
   ]
  },
  {
   "cell_type": "code",
   "execution_count": null,
   "id": "8f457859-b898-402a-8173-2ab1861625fd",
   "metadata": {},
   "outputs": [],
   "source": [
    "r.headers['Content-Disposition'].split(';')[1].strip().split("
   ]
  },
  {
   "cell_type": "code",
   "execution_count": null,
   "id": "84e37b7d-0944-4b23-89c8-51f0d06b621c",
   "metadata": {},
   "outputs": [],
   "source": [
    "def get_filename(response):\n",
    "    cdisp = response.headers['Content-Disposition'] \n",
    "    parts = cdisp.split(';') \n",
    "    fname = 'filename='\n",
    "    for part in parts:\n",
    "        part = part.strip() \n",
    "        if part.startswith(fname):\n",
    "            return part[len(fname):].strip() \n",
    "    return None "
   ]
  },
  {
   "cell_type": "code",
   "execution_count": null,
   "id": "e0655a94-0e19-4488-bb36-a0753a0f380a",
   "metadata": {},
   "outputs": [],
   "source": [
    "get_filename(r)"
   ]
  },
  {
   "cell_type": "code",
   "execution_count": null,
   "id": "bc020495-4585-465a-9d92-c0e75a68d4bc",
   "metadata": {},
   "outputs": [],
   "source": [
    "all_as= k.content_soup.find_all('a')"
   ]
  },
  {
   "cell_type": "code",
   "execution_count": null,
   "id": "ab0fb8dd-c013-4de1-a545-c432e753f2c4",
   "metadata": {},
   "outputs": [],
   "source": [
    "driver.get(k.link)"
   ]
  },
  {
   "cell_type": "code",
   "execution_count": null,
   "id": "7a709169-c5b2-40fa-ab3a-0b0b0edf6e23",
   "metadata": {},
   "outputs": [],
   "source": [
    "elem = driver.page_source"
   ]
  },
  {
   "cell_type": "code",
   "execution_count": null,
   "id": "e8981eec-7660-4155-8ccc-70e8b253d016",
   "metadata": {},
   "outputs": [],
   "source": [
    "soup = BeautifulSoup(elem)"
   ]
  },
  {
   "cell_type": "code",
   "execution_count": null,
   "id": "447441e3-9518-400c-9979-c7a7085490ec",
   "metadata": {},
   "outputs": [],
   "source": [
    "for img in soup.find_all('img'):\n",
    "    try:\n",
    "        print(img['src'])\n",
    "    except e:\n",
    "        pass "
   ]
  },
  {
   "cell_type": "code",
   "execution_count": null,
   "id": "3bc708fd-78fb-4448-9463-7a9a88367aa5",
   "metadata": {},
   "outputs": [],
   "source": [
    "all_as = soup.find_all('a')\n",
    "len(all_as)"
   ]
  },
  {
   "cell_type": "code",
   "execution_count": null,
   "id": "e50a8164-8b1d-4e0d-a27e-77e1fa50696f",
   "metadata": {},
   "outputs": [],
   "source": [
    "for a in all_as:\n",
    "    try:\n",
    "        print(a['href'])\n",
    "    except :\n",
    "        pass "
   ]
  },
  {
   "cell_type": "code",
   "execution_count": null,
   "id": "06738244-384d-494f-b855-8349b4c2ce84",
   "metadata": {},
   "outputs": [],
   "source": [
    "attachments = soup.find_all(\"li\", {\"class\":\"attached-file\"})\n",
    "len(attachments)\n",
    "a='https://tizona.service-now.com/sys_attachment.do?sys_id=1cc41e39dba089d00d24138b4b961904' \n",
    "attachments[0]"
   ]
  },
  {
   "cell_type": "code",
   "execution_count": null,
   "id": "6fe879af-f56f-4186-bd01-8d5cbc6bc76b",
   "metadata": {
    "tags": []
   },
   "outputs": [],
   "source": [
    "def find_attachement_links(body_soup):\n",
    "    attachments = soup.find_all(\"li\", {\"class\":\"attached-file\"})\n",
    "    links = [] \n",
    "    for attachment in attachments:\n",
    "        a = attachment.find_all('a')\n",
    "        for each_a in a:\n",
    "            links.append(each_a['ng-href'])\n",
    "    return links "
   ]
  },
  {
   "cell_type": "code",
   "execution_count": null,
   "id": "a41c327f-30c8-4322-bfc1-f521234eb634",
   "metadata": {},
   "outputs": [],
   "source": [
    "links = find_attachement_links(soup)\n",
    "for link in links:\n",
    "    print(link)"
   ]
  },
  {
   "cell_type": "code",
   "execution_count": null,
   "id": "1ea9c481-4df1-4581-8762-8858fb6b2592",
   "metadata": {},
   "outputs": [],
   "source": [
    "def download_attachment(link, base_url, dirname,  driver):\n",
    "    cookies = {} \n",
    "    for cookie in driver.get_cookies():\n",
    "        cookies[cookie['name']] = cookie['value']\n",
    "    url = base_url[:-1] + link[:-10]  \n",
    "    r = requests.get( url, cookies=cookies)\n",
    "    \n",
    "    print(\"Link:{}, status code:{}\".format( url, r.status_code)) \n",
    "    return r"
   ]
  },
  {
   "cell_type": "code",
   "execution_count": null,
   "id": "5d19ce33-1edf-4d75-a49f-562ac4aac37d",
   "metadata": {},
   "outputs": [],
   "source": [
    "r = download_attachment(links[0], k.base_url, '', driver)"
   ]
  },
  {
   "cell_type": "code",
   "execution_count": null,
   "id": "368bad9f-b8ea-45ef-804f-e09928453ab2",
   "metadata": {},
   "outputs": [],
   "source": [
    "r.headers"
   ]
  },
  {
   "cell_type": "code",
   "execution_count": null,
   "id": "34bb9a55-ea9a-4cdc-aa67-bf50af2f862e",
   "metadata": {},
   "outputs": [],
   "source": [
    "responses = [download_attachment(link, k.base_url, '', driver) for link in links]"
   ]
  },
  {
   "cell_type": "code",
   "execution_count": null,
   "id": "88307b91-1a09-412d-9521-cc07a82a241a",
   "metadata": {},
   "outputs": [],
   "source": [
    "responses[3].headers"
   ]
  },
  {
   "cell_type": "code",
   "execution_count": null,
   "id": "77c42b35-ce5a-4307-b00a-901d1e67d8b3",
   "metadata": {},
   "outputs": [],
   "source": [
    "len(r.content)"
   ]
  },
  {
   "cell_type": "code",
   "execution_count": null,
   "id": "f207063c-1f1a-4d30-b0d1-5ab0f1f42b38",
   "metadata": {},
   "outputs": [],
   "source": [
    "with open('a.pdf', 'wb') as f:\n",
    "    f.write(responses[0].content)"
   ]
  },
  {
   "cell_type": "code",
   "execution_count": null,
   "id": "a8788bbf-efb7-4cc6-877d-b8c1efb593d6",
   "metadata": {},
   "outputs": [],
   "source": [
    "r=download_attachment('sys_attachment.do?sys_id=1cc41e39dba089d00d24138b4b961904&amp;view=true', k.base_url, '', driver)"
   ]
  },
  {
   "cell_type": "code",
   "execution_count": null,
   "id": "c1124157-8149-4a93-9459-74b6f798bccf",
   "metadata": {},
   "outputs": [],
   "source": [
    "r.headers"
   ]
  },
  {
   "cell_type": "code",
   "execution_count": null,
   "id": "9fecda6b-32eb-4b01-a867-9b0b3626866d",
   "metadata": {},
   "outputs": [],
   "source": [
    "fname = get_filename(r)\n",
    "print(fname[1:-1])"
   ]
  },
  {
   "cell_type": "code",
   "execution_count": null,
   "id": "2e33f22e-dc4a-46b9-8877-b2897ec2dc37",
   "metadata": {},
   "outputs": [],
   "source": [
    "with open(fname[1:-1], 'wb') as f:\n",
    "    f.write(r.content)"
   ]
  },
  {
   "cell_type": "code",
   "execution_count": null,
   "id": "7957bab7-284c-4701-9b86-2c5324c7076e",
   "metadata": {},
   "outputs": [],
   "source": []
  }
 ],
 "metadata": {
  "kernelspec": {
   "display_name": "Python 3 (ipykernel)",
   "language": "python",
   "name": "python3"
  },
  "language_info": {
   "codemirror_mode": {
    "name": "ipython",
    "version": 3
   },
   "file_extension": ".py",
   "mimetype": "text/x-python",
   "name": "python",
   "nbconvert_exporter": "python",
   "pygments_lexer": "ipython3",
   "version": "3.9.7"
  }
 },
 "nbformat": 4,
 "nbformat_minor": 5
}
