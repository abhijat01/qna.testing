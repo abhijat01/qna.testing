{
 "cells": [
  {
   "cell_type": "markdown",
   "id": "a247c3ed-0b4b-437a-88eb-d0f540e1abbb",
   "metadata": {},
   "source": [
    "## This is a test file\n",
    "User \"driver_session_mgmt\" for downloading "
   ]
  },
  {
   "cell_type": "code",
   "execution_count": 1,
   "id": "1fe14594-4443-48b6-ba91-7aa21be2ce1d",
   "metadata": {},
   "outputs": [],
   "source": [
    "import os \n",
    "import sys\n",
    "from selenium import webdriver\n",
    "from selenium.webdriver.common.by import By\n",
    "from selenium.webdriver.chrome.options import Options as ChromeOptions\n",
    "import time\n",
    "import json "
   ]
  },
  {
   "cell_type": "markdown",
   "id": "e3263991-891f-4bbe-bcd3-d6c8ae57574c",
   "metadata": {},
   "source": [
    "## Add custom library to path "
   ]
  },
  {
   "cell_type": "code",
   "execution_count": 2,
   "id": "5d35510e-2bb8-480b-9a63-dacc228913c2",
   "metadata": {},
   "outputs": [],
   "source": [
    "parent = os.path.join('..', 'src') \n",
    "sys.path.append(parent)"
   ]
  },
  {
   "cell_type": "code",
   "execution_count": 3,
   "id": "777adb69-25d3-4c2d-8c88-56c807a6621b",
   "metadata": {},
   "outputs": [],
   "source": [
    "import servicenow.selenium_scrape as sel "
   ]
  },
  {
   "cell_type": "markdown",
   "id": "80b5ee7b-a1b9-48af-82bd-67a09435b8e2",
   "metadata": {},
   "source": [
    "## Configure driver options\n",
    "None of this is really being used. Kept here in case we need this in the future."
   ]
  },
  {
   "cell_type": "code",
   "execution_count": 4,
   "id": "a675cad2-abb8-48e8-bcb0-e7988645f342",
   "metadata": {},
   "outputs": [],
   "source": [
    "chrome_options = webdriver.ChromeOptions()\n",
    "settings = {\n",
    "    \"appState\": {\n",
    "        \"recentDestinations\": [{\n",
    "            \"id\": \"Save as PDF\",\n",
    "            \"origin\": \"local\",\n",
    "            \"account\": \"\",\n",
    "        }],\n",
    "        \"selectedDestinationId\": \"Save as PDF\",\n",
    "        \"version\": 2\n",
    "    }\n",
    "}\n",
    "\n",
    "prefs = {'printing.print_preview_sticky_settings.appState': json.dumps(settings), \n",
    "        'printing.print_preview_sticky_settings': json.dumps(settings)}\n",
    "chrome_options.add_experimental_option('prefs', prefs)\n",
    "chrome_options.add_argument('--kiosk-printing')"
   ]
  },
  {
   "cell_type": "markdown",
   "id": "30ddfbd2-57d9-48b3-b702-ee25c4404ec2",
   "metadata": {},
   "source": [
    "## Start the driver "
   ]
  },
  {
   "cell_type": "code",
   "execution_count": 5,
   "id": "3ccf172d-aa67-48d9-98e6-cecdabf47d41",
   "metadata": {},
   "outputs": [
    {
     "name": "stderr",
     "output_type": "stream",
     "text": [
      "C:\\Users\\AVATSY~1\\AppData\\Local\\Temp/ipykernel_40140/806812330.py:1: DeprecationWarning: use options instead of chrome_options\n",
      "  driver = webdriver.Chrome(chrome_options=chrome_options)\n"
     ]
    }
   ],
   "source": [
    "driver = webdriver.Chrome(chrome_options=chrome_options) \n",
    "base_url = 'https://tizona.service-now.com/fna/'"
   ]
  },
  {
   "cell_type": "markdown",
   "id": "c2162c43-f21a-4d30-8477-897f502bd47e",
   "metadata": {},
   "source": [
    "# Log on to okta\n",
    "This will open the Okta page. Log on to Okta and then click on the Service Now link "
   ]
  },
  {
   "cell_type": "code",
   "execution_count": 6,
   "id": "cb4f563b-eb08-47d1-a890-85729a931cd0",
   "metadata": {},
   "outputs": [],
   "source": [
    "url = 'https://tizona.service-now.com/fna/?id=kb_category&kb_category=25e9fde64febde405165fc828110c7db' \n",
    "url = 'https://taihooncology.okta.com/' \n",
    "driver.get(url) "
   ]
  },
  {
   "cell_type": "markdown",
   "id": "ac4e4934-ac23-4ad5-87cf-49a8f3f69bf5",
   "metadata": {},
   "source": [
    "## Go to list of knowledge articles \n",
    "We need to dynamically extract this link from the previous page. This is a hack"
   ]
  },
  {
   "cell_type": "code",
   "execution_count": 13,
   "id": "17835df7-382a-4d08-8147-81b84aff7cb9",
   "metadata": {},
   "outputs": [],
   "source": [
    "url = \"https://tizona.service-now.com/fna/?id=kb_category&kb_category=25e9fde64febde405165fc828110c7db\"\n",
    "driver.get(url)\n",
    "time.sleep(5) "
   ]
  },
  {
   "cell_type": "markdown",
   "id": "316660ce-45d7-4edd-9010-4dd56bb41afc",
   "metadata": {},
   "source": [
    "## Load list of all knowledge articles \n",
    "This code will click on \"Show More\" button, wait for few seconds and \n",
    "then click again till it cannot find the button anymore. "
   ]
  },
  {
   "cell_type": "code",
   "execution_count": 14,
   "id": "df29d0b0-0461-492f-bbf4-7209945a3dcd",
   "metadata": {},
   "outputs": [
    {
     "name": "stdout",
     "output_type": "stream",
     "text": [
      "Waiting for 5 seconds for page to fully load\n",
      "Waiting for 5 seconds for page to fully load\n",
      "Waiting for 5 seconds for page to fully load\n",
      "Waiting for 5 seconds for page to fully load\n",
      "Waiting for 5 seconds for page to fully load\n",
      "Waiting for 5 seconds for page to fully load\n",
      "Waiting for 5 seconds for page to fully load\n",
      "Done ...\n"
     ]
    }
   ],
   "source": [
    "click_=True \n",
    "element = None \n",
    "counter = 0 \n",
    "break_after = 1000\n",
    "while click_:\n",
    "    if not (element is None):\n",
    "        element.click() \n",
    "    print(\"Waiting for 5 seconds for page to fully load\")\n",
    "    time.sleep(5)\n",
    "    x_path=\"//*[text()='Show More']\"\n",
    "    elements = driver.find_elements(By.CSS_SELECTOR, '.btn-loadmore') \n",
    "    click_= (len(elements)>0)\n",
    "    if click_:\n",
    "        element = elements[0] \n",
    "        counter +=1 \n",
    "    if counter> break_after:\n",
    "        break \n",
    "print(\"Done ...\")"
   ]
  },
  {
   "cell_type": "markdown",
   "id": "828c70d4-7d94-4852-b2a3-0458a4d9440f",
   "metadata": {},
   "source": [
    "## Get the list elements, convert to KB  objects\n",
    "This will get the list of all elements containg knowledge articles. "
   ]
  },
  {
   "cell_type": "code",
   "execution_count": 15,
   "id": "5071985f-b141-4232-8012-c979d05daea1",
   "metadata": {},
   "outputs": [
    {
     "data": {
      "text/plain": [
       "67"
      ]
     },
     "execution_count": 15,
     "metadata": {},
     "output_type": "execute_result"
    }
   ],
   "source": [
    "x_path = \"//*[contains(@ng-href,'id=kb_article')]\"\n",
    "elements = driver.find_elements(By.XPATH, x_path) \n",
    "kb = [sel.KBArticleLine(element, base_url, i) for i, element in enumerate(elements)]\n",
    "len(kb)"
   ]
  },
  {
   "cell_type": "markdown",
   "id": "2b1ccea4-d1c2-409a-ac7d-e67c89ce77ef",
   "metadata": {},
   "source": [
    "## Save each article "
   ]
  },
  {
   "cell_type": "code",
   "execution_count": 16,
   "id": "7809ebe8-9b96-4cd6-ad7f-41449a8fd603",
   "metadata": {},
   "outputs": [
    {
     "name": "stdout",
     "output_type": "stream",
     "text": [
      "waiting for 5 seconds for https://tizona.service-now.com/fna/?id=kb_article&sys_id=d9445153878d019080dee58e0ebb35d3 to load\n",
      "waiting for 5 seconds for https://tizona.service-now.com/fna/?id=kb_article&sys_id=bfe70d1787c9019080dee58e0ebb3518 to load\n",
      "waiting for 5 seconds for https://tizona.service-now.com/fna/?id=kb_article&sys_id=3409654a87b0895480dee58e0ebb35a0 to load\n",
      "waiting for 5 seconds for https://tizona.service-now.com/fna/?id=kb_article&sys_id=abe8a14a87b0895480dee58e0ebb353d to load\n",
      "waiting for 5 seconds for https://tizona.service-now.com/fna/?id=kb_article&sys_id=b0d8610a87b0895480dee58e0ebb355f to load\n",
      "waiting for 5 seconds for https://tizona.service-now.com/fna/?id=kb_article&sys_id=aea8adc687b0895480dee58e0ebb3554 to load\n",
      "waiting for 5 seconds for https://tizona.service-now.com/fna/?id=kb_article&sys_id=bd9829c687b0895480dee58e0ebb3537 to load\n",
      "waiting for 5 seconds for https://tizona.service-now.com/fna/?id=kb_article&sys_id=c068a94687b0895480dee58e0ebb35bb to load\n",
      "waiting for 5 seconds for https://tizona.service-now.com/fna/?id=kb_article&sys_id=22d41e39dba089d00d24138b4b961951 to load\n",
      "waiting for 5 seconds for https://tizona.service-now.com/fna/?id=kb_article&sys_id=18c41639dba089d00d24138b4b961983 to load\n",
      "waiting for 5 seconds for https://tizona.service-now.com/fna/?id=kb_article&sys_id=7b949239dba089d00d24138b4b961939 to load\n",
      "waiting for 5 seconds for https://tizona.service-now.com/fna/?id=kb_article&sys_id=a4422daddb28c5d00d24138b4b961948 to load\n",
      "waiting for 5 seconds for https://tizona.service-now.com/fna/?id=kb_article&sys_id=610501d887ac0d9080dee58e0ebb35dc to load\n",
      "waiting for 5 seconds for https://tizona.service-now.com/fna/?id=kb_article&sys_id=fdd4099887ac0d9080dee58e0ebb35af to load\n",
      "waiting for 5 seconds for https://tizona.service-now.com/fna/?id=kb_article&sys_id=18a34d5487ac0d9080dee58e0ebb354f to load\n",
      "waiting for 5 seconds for https://tizona.service-now.com/fna/?id=kb_article&sys_id=8f83c95487ac0d9080dee58e0ebb350d to load\n",
      "waiting for 5 seconds for https://tizona.service-now.com/fna/?id=kb_article&sys_id=4d63015487ac0d9080dee58e0ebb35bc to load\n",
      "waiting for 5 seconds for https://tizona.service-now.com/fna/?id=kb_article&sys_id=6e43cdd087ac0d9080dee58e0ebb351a to load\n",
      "waiting for 5 seconds for https://tizona.service-now.com/fna/?id=kb_article&sys_id=8b8163ef8710c59080dee58e0ebb352c to load\n",
      "waiting for 5 seconds for https://tizona.service-now.com/fna/?id=kb_article&sys_id=7141ef6f8710c59080dee58e0ebb3517 to load\n",
      "waiting for 5 seconds for https://tizona.service-now.com/fna/?id=kb_article&sys_id=cc3ed6af8714859080dee58e0ebb35e9 to load\n",
      "waiting for 5 seconds for https://tizona.service-now.com/fna/?id=kb_article&sys_id=c11ede6f8714859080dee58e0ebb355f to load\n",
      "waiting for 5 seconds for https://tizona.service-now.com/fna/?id=kb_article&sys_id=18ed926f8714859080dee58e0ebb354a to load\n",
      "waiting for 5 seconds for https://tizona.service-now.com/fna/?id=kb_article&sys_id=c2bdda2f8714859080dee58e0ebb35aa to load\n",
      "waiting for 5 seconds for https://tizona.service-now.com/fna/?id=kb_article&sys_id=6f7e431fdbdc05900d24138b4b96197c to load\n",
      "waiting for 5 seconds for https://tizona.service-now.com/fna/?id=kb_article&sys_id=4bfa1a598718415080dee58e0ebb354c to load\n",
      "waiting for 5 seconds for https://tizona.service-now.com/fna/?id=kb_article&sys_id=556a12958718415080dee58e0ebb352e to load\n",
      "waiting for 5 seconds for https://tizona.service-now.com/fna/?id=kb_article&sys_id=cde5169587d4415080dee58e0ebb3526 to load\n",
      "waiting for 5 seconds for https://tizona.service-now.com/fna/?id=kb_article&sys_id=b1bb5603db0805540d24138b4b96191a to load\n",
      "waiting for 5 seconds for https://tizona.service-now.com/fna/?id=kb_article&sys_id=286ada8bdbc405540d24138b4b96196d to load\n",
      "waiting for 5 seconds for https://tizona.service-now.com/fna/?id=kb_article&sys_id=cc29d2c7dbc405540d24138b4b96190a to load\n",
      "waiting for 5 seconds for https://tizona.service-now.com/fna/?id=kb_article&sys_id=9de89287dbc405540d24138b4b961995 to load\n",
      "waiting for 5 seconds for https://tizona.service-now.com/fna/?id=kb_article&sys_id=1ba89a47dbc405540d24138b4b9619a9 to load\n",
      "waiting for 5 seconds for https://tizona.service-now.com/fna/?id=kb_article&sys_id=3a879e83dbc405540d24138b4b9619bb to load\n",
      "waiting for 5 seconds for https://tizona.service-now.com/fna/?id=kb_article&sys_id=6626d64fdb8405540d24138b4b96199c to load\n",
      "waiting for 5 seconds for https://tizona.service-now.com/fna/?id=kb_article&sys_id=a7e5d60fdb8405540d24138b4b96190d to load\n",
      "waiting for 5 seconds for https://tizona.service-now.com/fna/?id=kb_article&sys_id=fdd5920fdb8405540d24138b4b961932 to load\n",
      "waiting for 5 seconds for https://tizona.service-now.com/fna/?id=kb_article&sys_id=98755a8bdb8405540d24138b4b96193b to load\n",
      "waiting for 5 seconds for https://tizona.service-now.com/fna/?id=kb_article&sys_id=7f459e4bdb8405540d24138b4b9619cc to load\n",
      "waiting for 5 seconds for https://tizona.service-now.com/fna/?id=kb_article&sys_id=a3b49ac7db8405540d24138b4b961934 to load\n",
      "waiting for 5 seconds for https://tizona.service-now.com/fna/?id=kb_article&sys_id=ce441287db8405540d24138b4b961955 to load\n",
      "waiting for 5 seconds for https://tizona.service-now.com/fna/?id=kb_article&sys_id=61735ac3db8405540d24138b4b9619bd to load\n",
      "waiting for 5 seconds for https://tizona.service-now.com/fna/?id=kb_article&sys_id=bb239a83db8405540d24138b4b961962 to load\n",
      "waiting for 5 seconds for https://tizona.service-now.com/fna/?id=kb_article&sys_id=5190eaf4db88cdd00d24138b4b961996 to load\n",
      "waiting for 5 seconds for https://tizona.service-now.com/fna/?id=kb_article&sys_id=a0193564db080dd00d24138b4b961936 to load\n",
      "waiting for 5 seconds for https://tizona.service-now.com/fna/?id=kb_article&sys_id=fb4871a0db080dd00d24138b4b96195e to load\n",
      "waiting for 5 seconds for https://tizona.service-now.com/fna/?id=kb_article&sys_id=ef50aae287f73c9080dee58e0ebb35cb to load\n",
      "waiting for 5 seconds for https://tizona.service-now.com/fna/?id=kb_article&sys_id=7f14b166dbb778900d24138b4b9619dc to load\n",
      "waiting for 5 seconds for https://tizona.service-now.com/fna/?id=kb_article&sys_id=3653986e87ef701080dee58e0ebb35ef to load\n",
      "waiting for 5 seconds for https://tizona.service-now.com/fna/?id=kb_article&sys_id=e26bf75a87eb701080dee58e0ebb35a3 to load\n",
      "waiting for 5 seconds for https://tizona.service-now.com/fna/?id=kb_article&sys_id=997430b5db6fb0100d24138b4b9619a5 to load\n",
      "waiting for 5 seconds for https://tizona.service-now.com/fna/?id=kb_article&sys_id=0b2eadfb87d7fc1080dee58e0ebb35fb to load\n",
      "waiting for 5 seconds for https://tizona.service-now.com/fna/?id=kb_article&sys_id=8110095687d7701080dee58e0ebb35e6 to load\n",
      "waiting for 5 seconds for https://tizona.service-now.com/fna/?id=kb_article&sys_id=24736834db07f8100d24138b4b961911 to load\n",
      "waiting for 5 seconds for https://tizona.service-now.com/fna/?id=kb_article&sys_id=600320f0db07f8100d24138b4b961975 to load\n",
      "waiting for 5 seconds for https://tizona.service-now.com/fna/?id=kb_article&sys_id=14c224aa873efc1480dee58e0ebb352a to load\n",
      "waiting for 5 seconds for https://tizona.service-now.com/fna/?id=kb_article&sys_id=ad52a42a873efc1480dee58e0ebb35ac to load\n",
      "waiting for 5 seconds for https://tizona.service-now.com/fna/?id=kb_article&sys_id=716f558087ae3450a6800f2e0ebb3574 to load\n",
      "waiting for 5 seconds for https://tizona.service-now.com/fna/?id=kb_article&sys_id=e4894e6b87ca381080dee58e0ebb351b to load\n",
      "waiting for 5 seconds for https://tizona.service-now.com/fna/?id=kb_article&sys_id=ea9dc10f87717010c30620e5cebb3565 to load\n",
      "waiting for 5 seconds for https://tizona.service-now.com/fna/?id=kb_article&sys_id=a1d1c9031b113810aa649758b04bcb73 to load\n",
      "waiting for 5 seconds for https://tizona.service-now.com/fna/?id=kb_article&sys_id=e03132951bb8b0102c0d10e58d4bcba4 to load\n",
      "waiting for 5 seconds for https://tizona.service-now.com/fna/?id=kb_article&sys_id=8a132d3c1b7038102c0d10e58d4bcb84 to load\n",
      "waiting for 5 seconds for https://tizona.service-now.com/fna/?id=kb_article&sys_id=a7a461341bb038102c0d10e58d4bcbc3 to load\n",
      "waiting for 5 seconds for https://tizona.service-now.com/fna/?id=kb_article&sys_id=b348bacb1ba038109aed866ecc4bcbea to load\n",
      "waiting for 5 seconds for https://tizona.service-now.com/fna/?id=kb_article&sys_id=5b36bcac1be43c102c0d10e58d4bcbab to load\n",
      "waiting for 5 seconds for https://tizona.service-now.com/fna/?id=kb_article&sys_id=286132c81b04f4503f2476e2cd4bcb52 to load\n"
     ]
    }
   ],
   "source": [
    "sel.make_db(kb, driver, False)"
   ]
  },
  {
   "cell_type": "code",
   "execution_count": 22,
   "id": "70fa0717-74b5-4646-bbb6-9a559393bd73",
   "metadata": {},
   "outputs": [
    {
     "data": {
      "text/plain": [
       "True"
      ]
     },
     "execution_count": 22,
     "metadata": {},
     "output_type": "execute_result"
    }
   ],
   "source": [
    "driver.set_window_size(1920, 50000)  \n",
    "driver.save_screenshot('s.png')"
   ]
  },
  {
   "cell_type": "code",
   "execution_count": 24,
   "id": "9fe1076c-f7b7-4035-b7ca-0ab0c72cfed9",
   "metadata": {},
   "outputs": [
    {
     "name": "stdout",
     "output_type": "stream",
     "text": [
      "{'domain': 'tizona.service-now.com', 'expiry': 1642636514, 'httpOnly': True, 'name': 'glide_session_store', 'path': '/', 'sameSite': 'None', 'secure': True, 'value': '1A86AD578741419080DEE58E0EBB357F'}\n",
      "{'domain': 'tizona.service-now.com', 'expiry': 2161377245, 'httpOnly': True, 'name': 'glide_sso_id', 'path': '/', 'sameSite': 'None', 'secure': True, 'value': 'cee6ed734f3e1f80cb22029d0210c7a0'}\n",
      "{'domain': 'tizona.service-now.com', 'httpOnly': True, 'name': 'JSESSIONID', 'path': '/', 'sameSite': 'None', 'secure': True, 'value': 'FFBB48041D38E856B85B05E43B5E1785'}\n",
      "{'domain': 'tizona.service-now.com', 'httpOnly': True, 'name': 'glide_user_activity', 'path': '/', 'sameSite': 'None', 'secure': True, 'value': 'U0N2MzpHNTVEcTZzMHcydFRkL1lUR3gzeHUveVNETjFQb3lvczpuK1B1enArQVczMXByMWlKdWFCdVVSRDQ5RWVHcGUvS1doSEtVbFB3eFg0PQ=='}\n",
      "{'domain': 'tizona.service-now.com', 'httpOnly': True, 'name': 'BIGipServerpool_tizona', 'path': '/', 'sameSite': 'None', 'secure': True, 'value': '428693258.38206.0000'}\n",
      "{'domain': 'tizona.service-now.com', 'expiry': 3790115204, 'httpOnly': True, 'name': 'glide_user_route', 'path': '/', 'sameSite': 'None', 'secure': True, 'value': 'glide.0352012838241c9522a5d180863d5027'}\n"
     ]
    }
   ],
   "source": [
    "for cookie in driver.get_cookies():\n",
    "    print(cookie)"
   ]
  },
  {
   "cell_type": "markdown",
   "id": "7427a51c-2012-4cd2-bc9a-630b53882efb",
   "metadata": {},
   "source": [
    "## Shutdown driver process "
   ]
  },
  {
   "cell_type": "code",
   "execution_count": 35,
   "id": "f4560afa-5332-41ea-8781-b9396e20edf4",
   "metadata": {},
   "outputs": [],
   "source": [
    "driver.close() \n",
    "driver.stop_client()\n",
    "driver.quit() "
   ]
  },
  {
   "cell_type": "markdown",
   "id": "f98bab1e-9d7c-4fc8-a0db-e14983d837d9",
   "metadata": {},
   "source": [
    "## Using requests module for downloading images "
   ]
  },
  {
   "cell_type": "code",
   "execution_count": 26,
   "id": "fb4f9f2a-30cf-4568-af54-b5fa2fdd713e",
   "metadata": {},
   "outputs": [],
   "source": [
    "cookies = {} \n",
    "for cookie in driver.get_cookies():\n",
    "    cookies[cookie['name']] = cookie['value']"
   ]
  },
  {
   "cell_type": "code",
   "execution_count": 27,
   "id": "7a3967d8-6d7d-451f-8412-19ee1753d854",
   "metadata": {},
   "outputs": [],
   "source": [
    "import requests "
   ]
  },
  {
   "cell_type": "code",
   "execution_count": 28,
   "id": "06b4a0ed-4ce9-4e3f-9026-8cedf59367e8",
   "metadata": {},
   "outputs": [],
   "source": [
    "r = requests.get('https://tizona.service-now.com/fna/sys_attachment.do?sys_id=b06172c81b04f4503f2476e2cd4bcb7f', cookies=cookies)"
   ]
  },
  {
   "cell_type": "code",
   "execution_count": 30,
   "id": "61790c94-2552-4bc0-9b17-8013618faed0",
   "metadata": {},
   "outputs": [
    {
     "data": {
      "text/plain": [
       "200"
      ]
     },
     "execution_count": 30,
     "metadata": {},
     "output_type": "execute_result"
    }
   ],
   "source": [
    "r.status_code "
   ]
  },
  {
   "cell_type": "code",
   "execution_count": 31,
   "id": "8f13e75f-50df-4994-84ba-c347a8748371",
   "metadata": {},
   "outputs": [
    {
     "data": {
      "text/plain": [
       "{'X-Is-Logged-In': 'true', 'X-Transaction-ID': 'b6ace5938781', 'Set-Cookie': 'glide_session_store=1A86AD578741419080DEE58E0EBB357F; Max-Age=3600; Expires=Thu, 20-Jan-2022 00:00:53 GMT; Path=/; HttpOnly; SameSite=None; Secure', 'Pragma': 'no-store,no-cache', 'Cache-Control': 'public', 'Expires': 'Fri, 18 Feb 2022 23:00:53 GMT', 'Content-Disposition': 'attachment; filename=\"PeopleDirectory.png\"', 'x-edge-enc-proxy-static': 'true', 'x-edge-enc-proxy-attachment': 'true', 'Content-Type': 'image/png;charset=UTF-8', 'Transfer-Encoding': 'chunked', 'Date': 'Wed, 19 Jan 2022 23:00:53 GMT', 'Server': 'ServiceNow', 'Strict-Transport-Security': 'max-age=63072000; includeSubDomains'}"
      ]
     },
     "execution_count": 31,
     "metadata": {},
     "output_type": "execute_result"
    }
   ],
   "source": [
    "r.headers"
   ]
  },
  {
   "cell_type": "code",
   "execution_count": 33,
   "id": "61e82c99-a28a-4691-ab6a-ba123c639ade",
   "metadata": {},
   "outputs": [
    {
     "data": {
      "text/plain": [
       "bytes"
      ]
     },
     "execution_count": 33,
     "metadata": {},
     "output_type": "execute_result"
    }
   ],
   "source": [
    "type(r.content)"
   ]
  },
  {
   "cell_type": "code",
   "execution_count": 34,
   "id": "690476ec-4f19-40e6-84f9-b09d42c92387",
   "metadata": {},
   "outputs": [],
   "source": [
    "import base64"
   ]
  },
  {
   "cell_type": "code",
   "execution_count": null,
   "id": "cff80252-781a-4cf2-878f-877cf58269ef",
   "metadata": {},
   "outputs": [],
   "source": []
  }
 ],
 "metadata": {
  "kernelspec": {
   "display_name": "Python 3 (ipykernel)",
   "language": "python",
   "name": "python3"
  },
  "language_info": {
   "codemirror_mode": {
    "name": "ipython",
    "version": 3
   },
   "file_extension": ".py",
   "mimetype": "text/x-python",
   "name": "python",
   "nbconvert_exporter": "python",
   "pygments_lexer": "ipython3",
   "version": "3.9.7"
  }
 },
 "nbformat": 4,
 "nbformat_minor": 5
}
