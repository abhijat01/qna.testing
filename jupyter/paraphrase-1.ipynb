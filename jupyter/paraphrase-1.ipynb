{
 "cells": [
  {
   "cell_type": "code",
   "execution_count": 1,
   "id": "640e1862-c23e-488f-977f-08575f4330a3",
   "metadata": {},
   "outputs": [],
   "source": [
    "from transformers import AutoTokenizer, AutoModelForSeq2SeqLM"
   ]
  },
  {
   "cell_type": "code",
   "execution_count": 2,
   "id": "53c8f175-9e00-4d18-84ad-586b47480974",
   "metadata": {},
   "outputs": [],
   "source": [
    "tokenizer = AutoTokenizer.from_pretrained(\"Vamsi/T5_Paraphrase_Paws\")  "
   ]
  },
  {
   "cell_type": "code",
   "execution_count": 3,
   "id": "13247720-3ae7-4eda-afbd-932e7e8340b2",
   "metadata": {},
   "outputs": [
    {
     "data": {
      "application/vnd.jupyter.widget-view+json": {
       "model_id": "cfe366b7b3194b26b60daaaf8f543713",
       "version_major": 2,
       "version_minor": 0
      },
      "text/plain": [
       "Downloading:   0%|          | 0.00/850M [00:00<?, ?B/s]"
      ]
     },
     "metadata": {},
     "output_type": "display_data"
    }
   ],
   "source": [
    "model = AutoModelForSeq2SeqLM.from_pretrained(\"Vamsi/T5_Paraphrase_Paws\")"
   ]
  },
  {
   "cell_type": "code",
   "execution_count": 17,
   "id": "12a8e0d3-0168-4bbb-a3dd-8d4ac8417f8d",
   "metadata": {},
   "outputs": [],
   "source": [
    "sentence = \"This is something which i cannot understand at all\"\n",
    "\n",
    "text =  \"paraphrase: \" + sentence + \" </s>\"\n",
    "\n",
    "text = \"paraphase: What kind of support will the company provide for employees working from home? </s>\"\n",
    "\n",
    "encoding = tokenizer.encode_plus(text,pad_to_max_length=True, return_tensors=\"pt\")\n",
    "#input_ids, attention_masks = encoding[\"input_ids\"].to(\"cuda\"), encoding[\"attention_mask\"].to(\"cuda\")\n",
    "input_ids, attention_masks = encoding[\"input_ids\"], encoding[\"attention_mask\"]"
   ]
  },
  {
   "cell_type": "code",
   "execution_count": 24,
   "id": "6da8e148-2dd1-4de1-ace3-fe2915ae9bca",
   "metadata": {},
   "outputs": [],
   "source": [
    "outputs = model.generate(\n",
    "    input_ids=input_ids, attention_mask=attention_masks,\n",
    "    max_length=256,\n",
    "    do_sample=True,\n",
    "    top_k=500,\n",
    "    top_p=0.1,\n",
    "    early_stopping=True,\n",
    "    num_return_sequences=5\n",
    ")"
   ]
  },
  {
   "cell_type": "code",
   "execution_count": 25,
   "id": "1ac2bd93-9f26-4433-9a44-5f3da85610bc",
   "metadata": {},
   "outputs": [
    {
     "name": "stdout",
     "output_type": "stream",
     "text": [
      "What kind of support will the company provide for employees working from home?\n",
      "What kind of support will the company provide for employees working from home?\n",
      "What kind of support will the company provide for employees working from home?\n",
      "What kind of support will the company provide for employees working from home?\n",
      "What kind of support will the company provide for employees working from home?\n"
     ]
    }
   ],
   "source": [
    "for output in outputs:\n",
    "    line = tokenizer.decode(output, skip_special_tokens=True,clean_up_tokenization_spaces=True)\n",
    "    print(line)"
   ]
  },
  {
   "cell_type": "code",
   "execution_count": 27,
   "id": "c43ed9c7-79de-4425-8848-04546d18718d",
   "metadata": {},
   "outputs": [
    {
     "name": "stdout",
     "output_type": "stream",
     "text": [
      "['They were there to enjoy us and to pray for us.']\n"
     ]
    }
   ],
   "source": [
    "import torch\n",
    "from transformers import BartForConditionalGeneration, BartTokenizer\n",
    "\n",
    "input_sentence = \"They were there to enjoy us and they were there to pray for us.\"\n",
    "\n",
    "model = BartForConditionalGeneration.from_pretrained('eugenesiow/bart-paraphrase')\n",
    "#device = torch.device(\"cuda\" if torch.cuda.is_available() else \"cpu\")\n",
    "#model = model.to(device)\n",
    "tokenizer = BartTokenizer.from_pretrained('eugenesiow/bart-paraphrase')\n",
    "batch = tokenizer(input_sentence, return_tensors='pt')\n",
    "generated_ids = model.generate(batch['input_ids'])\n",
    "generated_sentence = tokenizer.batch_decode(generated_ids, skip_special_tokens=True)\n",
    "\n",
    "print(generated_sentence)"
   ]
  },
  {
   "cell_type": "code",
   "execution_count": 31,
   "id": "13b00e52-503e-4430-9ba0-5bb37ba7f654",
   "metadata": {},
   "outputs": [
    {
     "name": "stdout",
     "output_type": "stream",
     "text": [
      "Original:['What kind of support will the company provide for employees working from home?']\n",
      "Changed :['What kind of support will the company provide for employees working from home?']\n"
     ]
    }
   ],
   "source": [
    "input_sentence = \"What kind of support will the company provide for employees working from home?\"\n",
    "tokenizer = BartTokenizer.from_pretrained('eugenesiow/bart-paraphrase')\n",
    "batch = tokenizer(input_sentence, return_tensors='pt')\n",
    "generated_ids = model.generate(batch['input_ids'])\n",
    "generated_sentence = tokenizer.batch_decode(generated_ids, skip_special_tokens=True)\n",
    "\n",
    "print(\"Original:[\\'{}\\']\".format(input_sentence))\n",
    "print(\"Changed :{}\".format(generated_sentence))"
   ]
  },
  {
   "cell_type": "code",
   "execution_count": 32,
   "id": "08daf598-1cde-42c0-8037-03d930778d96",
   "metadata": {},
   "outputs": [],
   "source": [
    "def paraphrase(original_sent, _model, _tokenizer):\n",
    "    input_sentence = \"What kind of support will the company provide for employees working from home?\"\n",
    "    batch = _tokenizer(original_sent, return_tensors='pt')\n",
    "    generated_ids = _model.generate(batch['input_ids'])\n",
    "    generated_sentence = _tokenizer.batch_decode(generated_ids, skip_special_tokens=True)\n",
    "    return generated_sentence,original_sent  "
   ]
  },
  {
   "cell_type": "code",
   "execution_count": 33,
   "id": "5ed164cb-21ae-469d-ad67-4a7d309fa4fa",
   "metadata": {},
   "outputs": [
    {
     "name": "stdout",
     "output_type": "stream",
     "text": [
      "In this conversation, Kara Swisher and Spencer discuss the elements of the metaverse that are\n"
     ]
    }
   ],
   "source": [
    "sent = 'In this conversation, Kara Swisher and Spencer discuss the elements of the metaverse that are mirrored in gaming and whether Xbox aims to become the Netflix of gaming.'\n",
    "print(paraphrase(sent, model, tokenizer)[0])"
   ]
  },
  {
   "cell_type": "code",
   "execution_count": 37,
   "id": "dcc4593d-9602-441c-bcfa-610e053847f0",
   "metadata": {},
   "outputs": [
    {
     "data": {
      "text/plain": [
       "False"
      ]
     },
     "execution_count": 37,
     "metadata": {},
     "output_type": "execute_result"
    }
   ],
   "source": [
    "'.'.isalnum()"
   ]
  },
  {
   "cell_type": "code",
   "execution_count": null,
   "id": "0138ba49-16a0-4ece-9999-78e4dc825d1f",
   "metadata": {},
   "outputs": [],
   "source": []
  }
 ],
 "metadata": {
  "kernelspec": {
   "display_name": "Python 3 (ipykernel)",
   "language": "python",
   "name": "python3"
  },
  "language_info": {
   "codemirror_mode": {
    "name": "ipython",
    "version": 3
   },
   "file_extension": ".py",
   "mimetype": "text/x-python",
   "name": "python",
   "nbconvert_exporter": "python",
   "pygments_lexer": "ipython3",
   "version": "3.9.7"
  }
 },
 "nbformat": 4,
 "nbformat_minor": 5
}
