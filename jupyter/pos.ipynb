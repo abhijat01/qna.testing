{
 "cells": [
  {
   "cell_type": "code",
   "execution_count": 15,
   "id": "1c16a563-92f3-46f9-9be5-77f4e98c06bc",
   "metadata": {},
   "outputs": [],
   "source": [
    "from flair.data import Sentence\n",
    "from flair.models import SequenceTagger"
   ]
  },
  {
   "cell_type": "code",
   "execution_count": 17,
   "id": "d4f4c422-1eee-481e-8e45-4ecffd6bd7d3",
   "metadata": {},
   "outputs": [
    {
     "name": "stdout",
     "output_type": "stream",
     "text": [
      "2022-01-13 10:35:55,863 loading file C:\\Users\\avatsyayan\\.flair\\models\\pos-english\\a9a73f6cd878edce8a0fa518db76f441f1cc49c2525b2b4557af278ec2f0659e.121306ea62993d04cd1978398b68396931a39eb47754c8a06a87f325ea70ac63\n",
      "The following NER tags are found:\n",
      "Span [1]: \"What\"   [− Labels: WP (0.9543)]\n",
      "Span [2]: \"kind\"   [− Labels: NN (1.0)]\n",
      "Span [3]: \"of\"   [− Labels: IN (1.0)]\n",
      "Span [4]: \"support\"   [− Labels: NN (1.0)]\n",
      "Span [5]: \"will\"   [− Labels: MD (1.0)]\n",
      "Span [6]: \"the\"   [− Labels: DT (1.0)]\n",
      "Span [7]: \"company\"   [− Labels: NN (0.9957)]\n",
      "Span [8]: \"provide\"   [− Labels: VB (1.0)]\n",
      "Span [9]: \"for\"   [− Labels: IN (1.0)]\n",
      "Span [10]: \"employees\"   [− Labels: NNS (1.0)]\n",
      "Span [11]: \"working\"   [− Labels: VBG (1.0)]\n",
      "Span [12]: \"from\"   [− Labels: IN (1.0)]\n",
      "Span [13]: \"home\"   [− Labels: NN (0.9705)]\n",
      "Span [14]: \"?\"   [− Labels: . (0.9991)]\n",
      "[. (0.9991)]\n"
     ]
    }
   ],
   "source": [
    "# load tagger\n",
    "tagger = SequenceTagger.load(\"flair/pos-english\")\n",
    "\n",
    "# make example sentence\n",
    "use_sentence = \"What kind of support will the company provide for employees working from home?\"\n",
    "#use_sentence = \"I love Berlin.\"\n",
    "sentence = Sentence(use_sentence)\n",
    "\n",
    "# predict NER tags\n",
    "tagger.predict(sentence)\n",
    "\n",
    "# print sentence\n",
    "#print(sentence)\n",
    "\n",
    "# print predicted NER spans\n",
    "print('The following NER tags are found:')\n",
    "# iterate over entities and print\n",
    "for entity in sentence.get_spans('pos'):\n",
    "    print(entity)\n",
    "\n",
    "print(entity.get_labels())"
   ]
  },
  {
   "cell_type": "code",
   "execution_count": 7,
   "id": "d94273d5-16b0-4921-b57d-b02d379aa53f",
   "metadata": {},
   "outputs": [
    {
     "data": {
      "text/plain": [
       "list"
      ]
     },
     "execution_count": 7,
     "metadata": {},
     "output_type": "execute_result"
    }
   ],
   "source": [
    "type(entity.get_labels())"
   ]
  },
  {
   "cell_type": "code",
   "execution_count": 27,
   "id": "ef50426e-39ba-48c4-b372-14efaa91751a",
   "metadata": {},
   "outputs": [
    {
     "name": "stdout",
     "output_type": "stream",
     "text": [
      "Span [1]: \"What\"   [− Labels: WP (0.9543)]\n",
      "\tText:What:: WP  p:95.42555809020996%\n",
      "Span [2]: \"kind\"   [− Labels: NN (1.0)]\n",
      "\tText:kind:: NN  p:99.9974250793457%\n",
      "Span [3]: \"of\"   [− Labels: IN (1.0)]\n",
      "\tText:of:: IN  p:99.99946355819702%\n",
      "Span [4]: \"support\"   [− Labels: NN (1.0)]\n",
      "\tText:support:: NN  p:99.99991655349731%\n",
      "Span [5]: \"will\"   [− Labels: MD (1.0)]\n",
      "\tText:will:: MD  p:100.0%\n",
      "Span [6]: \"the\"   [− Labels: DT (1.0)]\n",
      "\tText:the:: DT  p:99.99998807907104%\n",
      "Span [7]: \"company\"   [− Labels: NN (0.9957)]\n",
      "\tText:company:: NN  p:99.57075119018555%\n",
      "Span [8]: \"provide\"   [− Labels: VB (1.0)]\n",
      "\tText:provide:: VB  p:99.99985694885254%\n",
      "Span [9]: \"for\"   [− Labels: IN (1.0)]\n",
      "\tText:for:: IN  p:100.0%\n",
      "Span [10]: \"employees\"   [− Labels: NNS (1.0)]\n",
      "\tText:employees:: NNS  p:99.99812841415405%\n",
      "Span [11]: \"working\"   [− Labels: VBG (1.0)]\n",
      "\tText:working:: VBG  p:99.99945163726807%\n",
      "Span [12]: \"from\"   [− Labels: IN (1.0)]\n",
      "\tText:from:: IN  p:100.0%\n",
      "Span [13]: \"home\"   [− Labels: NN (0.9705)]\n",
      "\tText:home:: NN  p:97.04755544662476%\n",
      "Span [14]: \"?\"   [− Labels: . (0.9991)]\n",
      "\tText:?:: .  p:99.90571141242981%\n"
     ]
    }
   ],
   "source": [
    "for entity in sentence.get_spans('pos'):\n",
    "    print(entity)\n",
    "    for l in entity.get_labels():\n",
    "        print(\"\\tText:{}:: {}  p:{}%\".format(entity.text, l.value, l.score*100))"
   ]
  },
  {
   "cell_type": "code",
   "execution_count": 14,
   "id": "760db2cb-fcd9-4141-a839-17f350631406",
   "metadata": {},
   "outputs": [
    {
     "name": "stdout",
     "output_type": "stream",
     "text": [
      "Identifier:, Score:0.9990571141242981, value:.\n"
     ]
    }
   ],
   "source": [
    "print(\"Identifier:[{}], Score:[{}], value:[{}]\".format(l.identifier, l.score, l.value))"
   ]
  },
  {
   "cell_type": "code",
   "execution_count": 21,
   "id": "8e95e98a-963d-4e21-b0c0-6dd89e6cbefa",
   "metadata": {},
   "outputs": [
    {
     "data": {
      "text/plain": [
       "['__class__',\n",
       " '__delattr__',\n",
       " '__dict__',\n",
       " '__dir__',\n",
       " '__doc__',\n",
       " '__eq__',\n",
       " '__format__',\n",
       " '__ge__',\n",
       " '__getattribute__',\n",
       " '__getitem__',\n",
       " '__gt__',\n",
       " '__hash__',\n",
       " '__init__',\n",
       " '__init_subclass__',\n",
       " '__iter__',\n",
       " '__le__',\n",
       " '__len__',\n",
       " '__lt__',\n",
       " '__module__',\n",
       " '__ne__',\n",
       " '__new__',\n",
       " '__reduce__',\n",
       " '__reduce_ex__',\n",
       " '__repr__',\n",
       " '__setattr__',\n",
       " '__sizeof__',\n",
       " '__str__',\n",
       " '__subclasshook__',\n",
       " '__weakref__',\n",
       " 'add_complex_label',\n",
       " 'add_label',\n",
       " 'annotation_layers',\n",
       " 'clear_embeddings',\n",
       " 'embedding',\n",
       " 'end_pos',\n",
       " 'get_labels',\n",
       " 'id_text',\n",
       " 'labels',\n",
       " 'position_string',\n",
       " 'remove_labels',\n",
       " 'score',\n",
       " 'set_label',\n",
       " 'start_pos',\n",
       " 'tag',\n",
       " 'text',\n",
       " 'to',\n",
       " 'to_dict',\n",
       " 'to_original_text',\n",
       " 'to_plain_string',\n",
       " 'tokens']"
      ]
     },
     "execution_count": 21,
     "metadata": {},
     "output_type": "execute_result"
    }
   ],
   "source": [
    "dir(entity)"
   ]
  },
  {
   "cell_type": "code",
   "execution_count": null,
   "id": "bb1827cc-ab79-4356-9356-3b7500799f59",
   "metadata": {},
   "outputs": [],
   "source": []
  }
 ],
 "metadata": {
  "kernelspec": {
   "display_name": "Python 3 (ipykernel)",
   "language": "python",
   "name": "python3"
  },
  "language_info": {
   "codemirror_mode": {
    "name": "ipython",
    "version": 3
   },
   "file_extension": ".py",
   "mimetype": "text/x-python",
   "name": "python",
   "nbconvert_exporter": "python",
   "pygments_lexer": "ipython3",
   "version": "3.9.7"
  }
 },
 "nbformat": 4,
 "nbformat_minor": 5
}
