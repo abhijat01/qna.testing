{
 "cells": [
  {
   "cell_type": "code",
   "execution_count": null,
   "id": "1c16a563-92f3-46f9-9be5-77f4e98c06bc",
   "metadata": {},
   "outputs": [],
   "source": [
    "from flair.data import Sentence\n",
    "from flair.models import SequenceTagger"
   ]
  },
  {
   "cell_type": "code",
   "execution_count": null,
   "id": "d4f4c422-1eee-481e-8e45-4ecffd6bd7d3",
   "metadata": {},
   "outputs": [],
   "source": [
    "# load tagger\n",
    "tagger = SequenceTagger.load(\"flair/pos-english\")\n",
    "\n",
    "# make example sentence\n",
    "use_sentence = \"What kind of support will the company provide for employees working from home?\"\n",
    "#use_sentence = \"I love Berlin.\"\n",
    "sentence = Sentence(use_sentence)\n",
    "\n",
    "# predict NER tags\n",
    "tagger.predict(sentence)\n",
    "\n",
    "# print sentence\n",
    "#print(sentence)\n",
    "\n",
    "# print predicted NER spans\n",
    "print('The following NER tags are found:')\n",
    "# iterate over entities and print\n",
    "for entity in sentence.get_spans('pos'):\n",
    "    print(entity)\n",
    "\n",
    "print(entity.get_labels())"
   ]
  },
  {
   "cell_type": "code",
   "execution_count": null,
   "id": "d94273d5-16b0-4921-b57d-b02d379aa53f",
   "metadata": {},
   "outputs": [],
   "source": [
    "type(entity.get_labels())"
   ]
  },
  {
   "cell_type": "code",
   "execution_count": null,
   "id": "ef50426e-39ba-48c4-b372-14efaa91751a",
   "metadata": {},
   "outputs": [],
   "source": [
    "for entity in sentence.get_spans('pos'):\n",
    "    print(entity)\n",
    "    for l in entity.get_labels():\n",
    "        print(\"\\tText:{}:: {}  p:{}%\".format(entity.text, l.value, l.score*100))"
   ]
  },
  {
   "cell_type": "code",
   "execution_count": null,
   "id": "760db2cb-fcd9-4141-a839-17f350631406",
   "metadata": {},
   "outputs": [],
   "source": [
    "print(\"Identifier:[{}], Score:[{}], value:[{}]\".format(l.identifier, l.score, l.value))"
   ]
  },
  {
   "cell_type": "code",
   "execution_count": null,
   "id": "8e95e98a-963d-4e21-b0c0-6dd89e6cbefa",
   "metadata": {},
   "outputs": [],
   "source": [
    "dir(entity)"
   ]
  },
  {
   "cell_type": "code",
   "execution_count": null,
   "id": "bb1827cc-ab79-4356-9356-3b7500799f59",
   "metadata": {},
   "outputs": [],
   "source": []
  }
 ],
 "metadata": {
  "kernelspec": {
   "display_name": "Python 3 (ipykernel)",
   "language": "python",
   "name": "python3"
  },
  "language_info": {
   "codemirror_mode": {
    "name": "ipython",
    "version": 3
   },
   "file_extension": ".py",
   "mimetype": "text/x-python",
   "name": "python",
   "nbconvert_exporter": "python",
   "pygments_lexer": "ipython3",
   "version": "3.9.7"
  }
 },
 "nbformat": 4,
 "nbformat_minor": 5
}
