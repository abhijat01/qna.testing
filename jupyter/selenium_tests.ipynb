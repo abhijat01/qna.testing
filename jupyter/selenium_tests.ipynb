{
 "cells": [
  {
   "cell_type": "markdown",
   "id": "d7aeab25-108e-4bef-9d3d-1358fbde3532",
   "metadata": {},
   "source": [
    "# Just for testing. \n",
    "Not being used for anything. Code has been moved to kb_download and the corresponding python classes. "
   ]
  },
  {
   "cell_type": "code",
   "execution_count": null,
   "id": "6954dffb-1d9b-47b2-9fb8-158a18f7ca5d",
   "metadata": {},
   "outputs": [],
   "source": [
    "from selenium import webdriver\n",
    "from selenium.webdriver.common.by import By\n",
    "from selenium.webdriver.chrome.options import Options as ChromeOptions\n",
    "import time \n",
    "import os \n",
    "from bs4 import BeautifulSoup\n",
    "import pickle "
   ]
  },
  {
   "cell_type": "markdown",
   "id": "6c810de5-0eaa-4272-b3de-502e5c061e8d",
   "metadata": {},
   "source": [
    "## Start the driver \n",
    "Do not need to do this everytime "
   ]
  },
  {
   "cell_type": "code",
   "execution_count": null,
   "id": "46c1fa9f-3029-4370-ad2b-2cb0fa81c483",
   "metadata": {},
   "outputs": [],
   "source": [
    "chrome_options = ChromeOptions()\n",
    "#chrome_options.add_argument(\"user-data-dir=selenium\") \n",
    "driver = webdriver.Chrome(chrome_options=chrome_options)"
   ]
  },
  {
   "cell_type": "markdown",
   "id": "18c95eed-b34f-4a59-a9b7-9cadddd0da9d",
   "metadata": {},
   "source": [
    "## Session management (cookies)"
   ]
  },
  {
   "cell_type": "code",
   "execution_count": null,
   "id": "ff1530ee-c953-47e2-8b1b-326acac16de0",
   "metadata": {},
   "outputs": [],
   "source": [
    "def save_cookies(driver):\n",
    "    pickle.dump( driver.get_cookies() , open(\"cookies.pkl\",\"wb\"))\n",
    "def load_cookies(driver):\n",
    "    cookies = pickle.load(open(\"cookies.pkl\", \"rb\"))\n",
    "    for cookie in cookies:\n",
    "        driver.add_cookie(cookie)"
   ]
  },
  {
   "cell_type": "markdown",
   "id": "98131331-a042-41bf-9e78-439b928edba1",
   "metadata": {},
   "source": [
    "## Fuctions and classes "
   ]
  },
  {
   "cell_type": "markdown",
   "id": "706bd719-a9f2-4001-9927-1125ba49ff8f",
   "metadata": {},
   "source": [
    "# Log on to okta\n",
    "This will open the Okta page. Log on to Okta and then click on the Service Now link "
   ]
  },
  {
   "cell_type": "code",
   "execution_count": null,
   "id": "9498f1dd-dda2-4ffd-a8e5-24b3a96b3783",
   "metadata": {},
   "outputs": [],
   "source": [
    "url = 'https://tizona.service-now.com/fna/?id=kb_category&kb_category=25e9fde64febde405165fc828110c7db' \n",
    "url = 'https://taihooncology.okta.com/' \n",
    "driver.get(url) \n",
    "load_cookies(driver)\n",
    "driver.get(url)"
   ]
  },
  {
   "cell_type": "code",
   "execution_count": null,
   "id": "8da7f36a-27ac-4ba8-991a-907a8f5f11da",
   "metadata": {},
   "outputs": [],
   "source": [
    "#save_cookies(driver)"
   ]
  },
  {
   "cell_type": "code",
   "execution_count": null,
   "id": "e967168d-e86a-43fd-b892-40ba6ec7ddbe",
   "metadata": {},
   "outputs": [],
   "source": [
    "wait_seconds = 20 \n",
    "print(\"Will wait for {} seconds\".format(wait_seconds))\n",
    "timer.sleep(wait_seconds)\n",
    "driver.get('https://tizona.service-now.com/fna/')"
   ]
  },
  {
   "cell_type": "code",
   "execution_count": null,
   "id": "6f217d5f-8eae-40c8-85e3-ef54db4c3de8",
   "metadata": {},
   "outputs": [],
   "source": [
    "x_path=\"//*[text()='IT Service Desk']\"\n",
    "x_path =\"/html/body/div[1]/div/div[1]/div/div[2]/ul[2]/li[1]/a\"\n",
    "x_path = \"//Employee[@id='4']\"\n",
    "x_path = \"//a[contains(@href,'https://taihooncology.okta.com/home/servicenow_')]\"\n",
    "elements = driver.find_elements(By.XPATH, x_path)"
   ]
  },
  {
   "cell_type": "code",
   "execution_count": null,
   "id": "1dcf229e-4f01-4011-a9c8-bf338dab7f04",
   "metadata": {},
   "outputs": [],
   "source": [
    "len(elements)"
   ]
  },
  {
   "cell_type": "markdown",
   "id": "1b8f2ab0-e565-4790-a277-dc5f31180cd9",
   "metadata": {},
   "source": [
    "## Go to service now \n",
    "This will make the driver load the service now page. May not be needed. "
   ]
  },
  {
   "cell_type": "code",
   "execution_count": null,
   "id": "056bc3e7-2152-4552-a4a2-317e473a15ff",
   "metadata": {},
   "outputs": [],
   "source": [
    "url = 'https://tizona.service-now.com/fna/?id=kb_view2' \n",
    "driver.get(url) "
   ]
  },
  {
   "cell_type": "markdown",
   "id": "445f2800-b5c3-4a8d-b2a4-9081b31787af",
   "metadata": {},
   "source": [
    "## Testing \n",
    "Next two lines just test a few things "
   ]
  },
  {
   "cell_type": "code",
   "execution_count": null,
   "id": "afeded6c-25cb-4f21-99a0-003d519c67c7",
   "metadata": {},
   "outputs": [],
   "source": [
    "x_path = \"//*[contains(@ng-href,'id=kb_view2')]\"\n",
    "x_path=\"//span[text()='Taiho Oncology']\"\n",
    "elements = driver.find_elements(By.XPATH, x_path) \n",
    "len(elements)"
   ]
  },
  {
   "cell_type": "code",
   "execution_count": null,
   "id": "e5050a98-e2a1-440f-ac32-261820e1e6f5",
   "metadata": {},
   "outputs": [],
   "source": [
    "elements[0].get_attribute('outerHTML')"
   ]
  },
  {
   "cell_type": "markdown",
   "id": "e23ceaa1-92b0-44e7-a61f-af0fee25e657",
   "metadata": {},
   "source": [
    "## Go to list of knowledge articles \n",
    "We need to dynamically extract this link from the previous page. This is a hack"
   ]
  },
  {
   "cell_type": "code",
   "execution_count": null,
   "id": "17835df7-382a-4d08-8147-81b84aff7cb9",
   "metadata": {},
   "outputs": [],
   "source": [
    "url = \"https://tizona.service-now.com/fna/?id=kb_category&kb_category=25e9fde64febde405165fc828110c7db\"\n",
    "driver.get(url)\n",
    "time.sleep(5) "
   ]
  },
  {
   "cell_type": "markdown",
   "id": "3b36b096-ee26-4637-95a0-98c7d9daec96",
   "metadata": {},
   "source": [
    "## Load list of all knowledge articles \n",
    "This code will click on \"Show More\" button, wait for few seconds and \n",
    "then click again till it cannot find the button anymore. "
   ]
  },
  {
   "cell_type": "code",
   "execution_count": null,
   "id": "df29d0b0-0461-492f-bbf4-7209945a3dcd",
   "metadata": {},
   "outputs": [],
   "source": [
    "click_=True \n",
    "element = None \n",
    "counter = 0 \n",
    "while click_:\n",
    "    if not (element is None):\n",
    "        element.click() \n",
    "    print(\"Waiting for 5 seconds for page to fully load\")\n",
    "    time.sleep(5)\n",
    "    x_path=\"//*[text()='Show More']\"\n",
    "    elements = driver.find_elements(By.CSS_SELECTOR, '.btn-loadmore') \n",
    "    click_= (len(elements)>0)\n",
    "    if click_:\n",
    "          element = elements[0] \n",
    "print(\"Done ...\")"
   ]
  },
  {
   "cell_type": "markdown",
   "id": "c8036baa-d639-4a08-9597-cbae543ddb62",
   "metadata": {},
   "source": [
    "## Get the list elements, convert to KB  objects\n",
    "This will get the list of all elements containg knowledge articles. "
   ]
  },
  {
   "cell_type": "code",
   "execution_count": null,
   "id": "5071985f-b141-4232-8012-c979d05daea1",
   "metadata": {},
   "outputs": [],
   "source": [
    "x_path = \"//*[contains(@ng-href,'id=kb_article')]\"\n",
    "elements = driver.find_elements(By.XPATH, x_path) \n",
    "kb = [KBArticleLine(element, base_url, i) for i, element in enumerate(elements)]\n",
    "len(kb)"
   ]
  },
  {
   "cell_type": "markdown",
   "id": "da2d3c6a-30ca-400d-9e7e-5bc625ffefda",
   "metadata": {},
   "source": [
    "## Save each article "
   ]
  },
  {
   "cell_type": "code",
   "execution_count": null,
   "id": "7809ebe8-9b96-4cd6-ad7f-41449a8fd603",
   "metadata": {},
   "outputs": [],
   "source": [
    "make_db(kb[0:5], driver)"
   ]
  },
  {
   "cell_type": "code",
   "execution_count": null,
   "id": "df904d73-b863-456e-80a3-439db0ed45e0",
   "metadata": {},
   "outputs": [],
   "source": [
    "kb = kb[1]\n",
    "kb.href"
   ]
  },
  {
   "cell_type": "code",
   "execution_count": null,
   "id": "9b2a5138-aaee-49c2-b909-5899233bb457",
   "metadata": {},
   "outputs": [],
   "source": [
    "full_url = base_url+kb.href\n",
    "full_url"
   ]
  },
  {
   "cell_type": "code",
   "execution_count": null,
   "id": "341a5dd0-6284-4d50-b0e6-b635cbec0434",
   "metadata": {},
   "outputs": [],
   "source": [
    "driver.get(full_url) "
   ]
  },
  {
   "cell_type": "code",
   "execution_count": null,
   "id": "413ae8e1-ab75-4622-b614-e2d0b264583a",
   "metadata": {},
   "outputs": [],
   "source": [
    "elements = driver.find_elements(By.CSS_SELECTOR, '.panel-body')"
   ]
  },
  {
   "cell_type": "code",
   "execution_count": null,
   "id": "40f78277-2afb-4a8b-885a-c83b4491e607",
   "metadata": {},
   "outputs": [],
   "source": [
    "soup = parse_html(elements[1].get_attribute('innerHTML'))"
   ]
  },
  {
   "cell_type": "code",
   "execution_count": null,
   "id": "7130b99a-a146-4624-9564-a0010a34bc4a",
   "metadata": {},
   "outputs": [],
   "source": [
    "for img in soup.find_all('img'):\n",
    "    src = img['src'] \n",
    "    print( src )\n",
    "    if src.startswith('/'):\n",
    "        img['src'] = base_url+ src "
   ]
  },
  {
   "cell_type": "code",
   "execution_count": null,
   "id": "a31697fd-73b8-4eab-99d9-fe058a0da856",
   "metadata": {},
   "outputs": [],
   "source": [
    "for img in soup.find_all('img'):\n",
    "    src = img['src'] \n",
    "    print( src )"
   ]
  },
  {
   "cell_type": "code",
   "execution_count": null,
   "id": "e80abb13-e143-48b1-b0c6-0d801071512f",
   "metadata": {},
   "outputs": [],
   "source": [
    "title_header = soup.find_all(\"h2\" , {\"class\":\"kb-title-header\"})"
   ]
  },
  {
   "cell_type": "code",
   "execution_count": null,
   "id": "200cfa3a-d7e6-4d1d-b831-936dd2343dc4",
   "metadata": {},
   "outputs": [],
   "source": [
    "len(title_header)"
   ]
  },
  {
   "cell_type": "code",
   "execution_count": null,
   "id": "2db1c6f4-fc4f-4066-b227-a44c385ae19c",
   "metadata": {},
   "outputs": [],
   "source": [
    "title_header[0].string = \"<a href='http://google.com'>{}</a>\".format(title_header[0].text)"
   ]
  },
  {
   "cell_type": "markdown",
   "id": "748fc8d0-2e65-4bef-b687-e2f1835d55fa",
   "metadata": {},
   "source": [
    "## Shutdown driver process "
   ]
  },
  {
   "cell_type": "code",
   "execution_count": null,
   "id": "f4560afa-5332-41ea-8781-b9396e20edf4",
   "metadata": {},
   "outputs": [],
   "source": [
    "driver.close() \n",
    "driver.stop_client()\n",
    "driver.quit() "
   ]
  },
  {
   "cell_type": "code",
   "execution_count": null,
   "id": "7f0b0ca6-669d-47c7-a7ff-446a12f27588",
   "metadata": {},
   "outputs": [],
   "source": []
  }
 ],
 "metadata": {
  "kernelspec": {
   "display_name": "Python 3 (ipykernel)",
   "language": "python",
   "name": "python3"
  },
  "language_info": {
   "codemirror_mode": {
    "name": "ipython",
    "version": 3
   },
   "file_extension": ".py",
   "mimetype": "text/x-python",
   "name": "python",
   "nbconvert_exporter": "python",
   "pygments_lexer": "ipython3",
   "version": "3.9.7"
  }
 },
 "nbformat": 4,
 "nbformat_minor": 5
}
