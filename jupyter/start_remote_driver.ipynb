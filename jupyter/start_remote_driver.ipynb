{
 "cells": [
  {
   "cell_type": "code",
   "execution_count": 6,
   "id": "763ccb01-13e5-4b36-a085-8c4c5fbb7a6f",
   "metadata": {},
   "outputs": [],
   "source": [
    "import os \n",
    "import sys "
   ]
  },
  {
   "cell_type": "markdown",
   "id": "058911a3-c0fe-4d0b-ad5e-f3838866f927",
   "metadata": {},
   "source": [
    "## Add custom library to path "
   ]
  },
  {
   "cell_type": "code",
   "execution_count": 7,
   "id": "274e45a2-24c1-4e49-ba2f-17ae0ec857e0",
   "metadata": {},
   "outputs": [],
   "source": [
    "parent = os.path.join('..', 'src') \n",
    "sys.path.append(parent)"
   ]
  },
  {
   "cell_type": "code",
   "execution_count": 8,
   "id": "63c626b9-42a4-4462-8d83-9fc94fe35bf3",
   "metadata": {},
   "outputs": [],
   "source": [
    "import servicenow.selenium_scrape as sel "
   ]
  },
  {
   "cell_type": "code",
   "execution_count": 9,
   "id": "93393823-7a03-47dc-9e2e-c6c301ffa614",
   "metadata": {},
   "outputs": [],
   "source": [
    "okta_url = 'https://taihooncology.okta.com/'\n",
    "svc_now_url='https://tizona.service-now.com/fna/'"
   ]
  },
  {
   "cell_type": "markdown",
   "id": "8af8a27f-9b07-4a8b-83ac-fab50e1b32a8",
   "metadata": {},
   "source": [
    "## Start a remote session "
   ]
  },
  {
   "cell_type": "code",
   "execution_count": 10,
   "id": "d90884f8-9625-4535-adb1-2a6cea10d357",
   "metadata": {},
   "outputs": [],
   "source": [
    "sess = sel.SessionMgmt() \n",
    "remote_driver = sess.start_session() \n",
    "remote_driver.get(okta_url) "
   ]
  },
  {
   "cell_type": "markdown",
   "id": "d86947c9-5f28-4203-929e-e21c72c25b97",
   "metadata": {},
   "source": [
    "## Shutdown the driver\n",
    "Should cleanly shutdown the driver and os processes "
   ]
  },
  {
   "cell_type": "code",
   "execution_count": null,
   "id": "afa172ac-d0e7-4e77-9f0b-c5a29254c5ef",
   "metadata": {},
   "outputs": [],
   "source": [
    "def shutdown(_driver):\n",
    "    _driver.close() \n",
    "    _driver.stop_client()\n",
    "    _driver.quit() "
   ]
  },
  {
   "cell_type": "code",
   "execution_count": null,
   "id": "e3778152-578a-4411-9511-4f4611e2682c",
   "metadata": {},
   "outputs": [],
   "source": [
    "shutdown(remote_driver) "
   ]
  }
 ],
 "metadata": {
  "kernelspec": {
   "display_name": "Python 3 (ipykernel)",
   "language": "python",
   "name": "python3"
  },
  "language_info": {
   "codemirror_mode": {
    "name": "ipython",
    "version": 3
   },
   "file_extension": ".py",
   "mimetype": "text/x-python",
   "name": "python",
   "nbconvert_exporter": "python",
   "pygments_lexer": "ipython3",
   "version": "3.9.7"
  }
 },
 "nbformat": 4,
 "nbformat_minor": 5
}
