{
 "cells": [
  {
   "cell_type": "code",
   "execution_count": null,
   "id": "f68497ae-5db5-4d8b-999e-cf3db84df495",
   "metadata": {},
   "outputs": [],
   "source": [
    "from selenium import webdriver\n",
    "from selenium.webdriver.common.by import By\n",
    "from selenium.webdriver.chrome.options import Options as ChromeOptions\n",
    "import time \n",
    "import os \n",
    "from bs4 import BeautifulSoup\n",
    "import json \n",
    "import sys \n",
    "import requests "
   ]
  },
  {
   "cell_type": "code",
   "execution_count": null,
   "id": "43ff1d62-aa46-4edb-bd64-9582daa68daa",
   "metadata": {},
   "outputs": [],
   "source": [
    "filename='kb.html/1.html'"
   ]
  },
  {
   "cell_type": "code",
   "execution_count": null,
   "id": "70868187-200b-4632-bb3b-f50773da614b",
   "metadata": {},
   "outputs": [],
   "source": [
    "with open(filename, 'r', encoding='utf-8') as f:\n",
    "    html = f.read() \n",
    "    \n",
    "html = BeautifulSoup(html, 'html.parser')"
   ]
  },
  {
   "cell_type": "code",
   "execution_count": null,
   "id": "7b3b074c-0aea-49fa-8e6f-0b5ba7b1d415",
   "metadata": {},
   "outputs": [],
   "source": [
    "fuzitsu_headers = html.find_all(\"div\", {\"sn-atf-area\":\"Fujitsu Header\"})"
   ]
  },
  {
   "cell_type": "code",
   "execution_count": null,
   "id": "d8800717-780d-4345-905a-ceba368e349a",
   "metadata": {},
   "outputs": [],
   "source": [
    "len(fuzitsu_headers)"
   ]
  },
  {
   "cell_type": "code",
   "execution_count": null,
   "id": "4ab8de9d-e5d9-4ff1-aff5-3a274ab10d97",
   "metadata": {},
   "outputs": [],
   "source": [
    "for f in fuzitsu_headers:\n",
    "    f.decompose()"
   ]
  },
  {
   "cell_type": "code",
   "execution_count": null,
   "id": "e02d333a-3975-4479-ae12-3a43748f927b",
   "metadata": {},
   "outputs": [],
   "source": [
    "with open(filename, 'w', encoding='utf-8') as f:\n",
    "    f.write(str(html))"
   ]
  },
  {
   "cell_type": "code",
   "execution_count": null,
   "id": "b766e551-aa44-4c02-b704-675a4c9e9a55",
   "metadata": {},
   "outputs": [],
   "source": [
    "header = html.find('header')"
   ]
  },
  {
   "cell_type": "code",
   "execution_count": null,
   "id": "d8dcb4a0-6f44-4913-bcc4-1425ec653428",
   "metadata": {},
   "outputs": [],
   "source": [
    "header.decompose()"
   ]
  },
  {
   "cell_type": "code",
   "execution_count": null,
   "id": "8388aa9d-1496-4f70-b467-8deef8b1a1ce",
   "metadata": {},
   "outputs": [],
   "source": [
    "kb_infs= html.find_all(\"div\", {\"class\":\"kb-number-info\"})"
   ]
  },
  {
   "cell_type": "code",
   "execution_count": null,
   "id": "29f10a67-dbf4-483b-8afb-0d80fe084281",
   "metadata": {},
   "outputs": [],
   "source": [
    "for row in kb_infs:\n",
    "    row.decompose() "
   ]
  },
  {
   "cell_type": "code",
   "execution_count": null,
   "id": "79ece3ec-2649-4e0d-8987-df13416cd44b",
   "metadata": {},
   "outputs": [],
   "source": [
    "attachments = html.find_all(\"li\", {\"class\": \"attached-file\"})"
   ]
  },
  {
   "cell_type": "code",
   "execution_count": null,
   "id": "d58be1af-558a-41d2-b0d7-0a9bb9bded56",
   "metadata": {},
   "outputs": [],
   "source": [
    "len(attachments)"
   ]
  },
  {
   "cell_type": "code",
   "execution_count": null,
   "id": "1148ab1b-84fc-4efc-8e96-339ff7ab51b9",
   "metadata": {},
   "outputs": [],
   "source": [
    "for at in attachments:\n",
    "    a=at.find(\"a\")\n",
    "    print(a['href'])\n"
   ]
  },
  {
   "cell_type": "code",
   "execution_count": null,
   "id": "004181bb-0738-4a85-9866-083d784e46c2",
   "metadata": {},
   "outputs": [],
   "source": [
    "print(attachments[0])"
   ]
  },
  {
   "cell_type": "code",
   "execution_count": null,
   "id": "b8a2fbbf-4626-48ce-97c8-916b023b36b6",
   "metadata": {},
   "outputs": [],
   "source": []
  }
 ],
 "metadata": {
  "kernelspec": {
   "display_name": "Python 3 (ipykernel)",
   "language": "python",
   "name": "python3"
  },
  "language_info": {
   "codemirror_mode": {
    "name": "ipython",
    "version": 3
   },
   "file_extension": ".py",
   "mimetype": "text/x-python",
   "name": "python",
   "nbconvert_exporter": "python",
   "pygments_lexer": "ipython3",
   "version": "3.9.7"
  }
 },
 "nbformat": 4,
 "nbformat_minor": 5
}